{
 "cells": [
  {
   "cell_type": "code",
   "execution_count": 1,
   "metadata": {
    "collapsed": false
   },
   "outputs": [
    {
     "name": "stdout",
     "output_type": "stream",
     "text": [
      "package 'dplyr' successfully unpacked and MD5 sums checked\n",
      "\n",
      "The downloaded binary packages are in\n",
      "\tC:\\Users\\divya\\AppData\\Local\\Temp\\RtmpqyJiy7\\downloaded_packages\n"
     ]
    }
   ],
   "source": [
    "install.packages(\"dplyr\", repos=\"http://cran.us.r-project.org\")"
   ]
  },
  {
   "cell_type": "code",
   "execution_count": 2,
   "metadata": {
    "collapsed": false
   },
   "outputs": [
    {
     "name": "stderr",
     "output_type": "stream",
     "text": [
      "Warning message:\n",
      "\"package 'dplyr' was built under R version 3.3.3\"\n",
      "Attaching package: 'dplyr'\n",
      "\n",
      "The following objects are masked from 'package:stats':\n",
      "\n",
      "    filter, lag\n",
      "\n",
      "The following objects are masked from 'package:base':\n",
      "\n",
      "    intersect, setdiff, setequal, union\n",
      "\n"
     ]
    }
   ],
   "source": [
    "library(dplyr)"
   ]
  },
  {
   "cell_type": "code",
   "execution_count": 3,
   "metadata": {
    "collapsed": true
   },
   "outputs": [],
   "source": [
    "data <- read.csv(\"pew.csv\")"
   ]
  },
  {
   "cell_type": "code",
   "execution_count": 19,
   "metadata": {
    "collapsed": true
   },
   "outputs": [],
   "source": [
    "data <- as.data.frame(data)"
   ]
  },
  {
   "cell_type": "markdown",
   "metadata": {},
   "source": [
    "# Q1: What is the impact of level of education on internet services at home?\n",
    "Answer: We observe that the higher the level of education, more likely are people to use internet services at home. People who are atleast college graduate use the most internet services at home while people who are less than a high school graduate have the least number of internet services usage at home.\n"
   ]
  },
  {
   "cell_type": "code",
   "execution_count": 20,
   "metadata": {
    "collapsed": true
   },
   "outputs": [],
   "source": [
    "new_frame <- select(data, home4nw, educ2)"
   ]
  },
  {
   "cell_type": "code",
   "execution_count": 22,
   "metadata": {
    "collapsed": true
   },
   "outputs": [],
   "source": [
    "new_frame[is.na(new_frame)] <- 0"
   ]
  },
  {
   "cell_type": "code",
   "execution_count": 24,
   "metadata": {
    "collapsed": false
   },
   "outputs": [],
   "source": [
    "new_frame <- new_frame[!(new_frame$home4nw == 2),]\n",
    "new_frame <- new_frame[!(new_frame$home4nw == 0),]\n",
    "new_frame <- new_frame[!(new_frame$educ2 == 2),]\n",
    "new_frame <- new_frame[!(new_frame$educ2 == 5),]\n",
    "new_frame <- new_frame[!(new_frame$educ2 == 6),]\n",
    "new_frame <- new_frame[!(new_frame$educ2 == 7),]\n",
    "new_frame <- new_frame[!(new_frame$educ2 == 98),]\n",
    "new_frame <- new_frame[!(new_frame$educ2 == 99),]\n",
    "new_frame <- new_frame[!(new_frame$educ2 == 0),]"
   ]
  },
  {
   "cell_type": "code",
   "execution_count": 35,
   "metadata": {
    "collapsed": false
   },
   "outputs": [
    {
     "data": {
      "image/png": "[encoded data removed]",
      "text/plain": [
       "plot without title"
      ]
     },
     "metadata": {},
     "output_type": "display_data"
    }
   ],
   "source": [
    "a <- c(\"Yes\")\n",
    "barplot(table(new_frame), xlab=\"Education Level\", ylab=\"Have internet services\",\n",
    "        col=c(\"red\"),\n",
    "        cex.names=0.5,\n",
    "        legend.text=a,\n",
    "        names.arg=c(\"LT HS\",\"HS Grad\",\"Some Coll\",\"Coll Grad+\"),\n",
    "        width=c(0.1,0.1,0.1,0.1)\n",
    "       )"
   ]
  },
  {
   "cell_type": "markdown",
   "metadata": {},
   "source": [
    "# Q2: How does education level impact usage of social media for job search?\n",
    "Answer: We observe that the more the educated a person is the more he/she uses social media while searching for a job."
   ]
  },
  {
   "cell_type": "code",
   "execution_count": 51,
   "metadata": {
    "collapsed": true
   },
   "outputs": [],
   "source": [
    "question2 <- select(data, snsjob1a, educ2)"
   ]
  },
  {
   "cell_type": "code",
   "execution_count": 52,
   "metadata": {
    "collapsed": true
   },
   "outputs": [],
   "source": [
    "question2 <- as.data.frame(question2)"
   ]
  },
  {
   "cell_type": "code",
   "execution_count": 54,
   "metadata": {
    "collapsed": true
   },
   "outputs": [],
   "source": [
    "question2[is.na(question2)] <- 0"
   ]
  },
  {
   "cell_type": "code",
   "execution_count": 56,
   "metadata": {
    "collapsed": true
   },
   "outputs": [],
   "source": [
    "\n",
    "question2 <- question2[!(question2$snsjob1a == 0),]\n",
    "question2 <- question2[!(question2$snsjob1a == 8),]\n",
    "question2 <- question2[!(question2$snsjob1a == 9),]\n",
    "question2 <- question2[!(question2$educ2 == 2),]\n",
    "question2 <- question2[!(question2$educ2 == 5),]\n",
    "question2 <- question2[!(question2$educ2 == 6),]\n",
    "question2 <- question2[!(question2$educ2 == 7),]\n",
    "question2 <- question2[!(question2$educ2 == 98),]\n",
    "question2 <- question2[!(question2$educ2 == 99),]\n",
    "question2 <- question2[!(question2$educ2 == 0),]"
   ]
  },
  {
   "cell_type": "code",
   "execution_count": 60,
   "metadata": {
    "collapsed": false
   },
   "outputs": [
    {
     "data": {
      "image/png": "[encoded data removed]",
      "text/plain": [
       "plot without title"
      ]
     },
     "metadata": {},
     "output_type": "display_data"
    }
   ],
   "source": [
    "a <- c(\"Yes\",\"No\")\n",
    "barplot(table(question2), xlab=\"Education Level\", ylab=\"Social Media usage for job search\", beside =TRUE,\n",
    "        col=c(\"black\",\"gray\"),\n",
    "        cex.names=0.5,\n",
    "        legend.text=a,\n",
    "        names.arg=c(\"LT HS\",\"HS Grad\",\"Some Coll\",\"Coll Grad+\"),\n",
    "        width=c(0.1,0.1,0.1,0.1)\n",
    "       )"
   ]
  },
  {
   "cell_type": "markdown",
   "metadata": {},
   "source": [
    "# Q3: How does education impact the internet usage daily?\n",
    "Answer: We observe that the more the educated people the higher the internet usage during the day."
   ]
  },
  {
   "cell_type": "code",
   "execution_count": 62,
   "metadata": {
    "collapsed": false
   },
   "outputs": [],
   "source": [
    "question3 <- select(data, intfreq, educ2)"
   ]
  },
  {
   "cell_type": "code",
   "execution_count": 63,
   "metadata": {
    "collapsed": true
   },
   "outputs": [],
   "source": [
    "question3 <- as.data.frame(question3)"
   ]
  },
  {
   "cell_type": "code",
   "execution_count": 64,
   "metadata": {
    "collapsed": true
   },
   "outputs": [],
   "source": [
    "question3[is.na(question3\n",
    "               )] <- 0"
   ]
  },
  {
   "cell_type": "code",
   "execution_count": 66,
   "metadata": {
    "collapsed": true
   },
   "outputs": [],
   "source": [
    "question3 <- question3[!(question3$intfreq == 0),]\n",
    "question3 <- question3[!(question3$intfreq == 8),]\n",
    "question3 <- question3[!(question3$intfreq == 9),]\n",
    "question3 <- question3[!(question3$intfreq == 4),]\n",
    "question3 <- question3[!(question3$intfreq == 5),]\n",
    "question3 <- question3[!(question3$educ2 == 2),]\n",
    "question3 <- question3[!(question3$educ2 == 5),]\n",
    "question3 <- question3[!(question3$educ2 == 6),]\n",
    "question3 <- question3[!(question3$educ2 == 7),]\n",
    "question3 <- question3[!(question3$educ2 == 98),]\n",
    "question3 <- question3[!(question3$educ2 == 99),]\n",
    "question3 <- question3[!(question3$educ2 == 0),]"
   ]
  },
  {
   "cell_type": "code",
   "execution_count": 68,
   "metadata": {
    "collapsed": false
   },
   "outputs": [
    {
     "data": {
      "image/png": "[encoded data removed]",
      "text/plain": [
       "plot without title"
      ]
     },
     "metadata": {},
     "output_type": "display_data"
    }
   ],
   "source": [
    "a <- c(\"Constantly\",\"Several times a day\", \"Once a day\")\n",
    "barplot(table(question3), xlab=\"Education Level\", ylab=\"Internet usage\", beside =TRUE,\n",
    "        col=c(\"red\",\"green\",\"blue\"),\n",
    "        cex.names=0.5,\n",
    "        legend.text=a,\n",
    "        names.arg=c(\"LT HS\",\"HS Grad\",\"Some Coll\",\"Coll Grad+\"),\n",
    "        width=c(0.1,0.1,0.1,0.1)\n",
    "       )"
   ]
  },
  {
   "cell_type": "markdown",
   "metadata": {},
   "source": [
    "# Q4: How does education impact owning a \"smartphone\"?\n",
    "Answer: The more the education a person recieves, the more is the person likely to own a smartphone."
   ]
  },
  {
   "cell_type": "code",
   "execution_count": 69,
   "metadata": {
    "collapsed": true
   },
   "outputs": [],
   "source": [
    "question4 <- select(data, smart1, educ2)"
   ]
  },
  {
   "cell_type": "code",
   "execution_count": 71,
   "metadata": {
    "collapsed": true
   },
   "outputs": [],
   "source": [
    "question4 <- as.data.frame(question4)"
   ]
  },
  {
   "cell_type": "code",
   "execution_count": 72,
   "metadata": {
    "collapsed": true
   },
   "outputs": [],
   "source": [
    "question4[is.na(question4\n",
    "               )] <- 0"
   ]
  },
  {
   "cell_type": "code",
   "execution_count": 74,
   "metadata": {
    "collapsed": true
   },
   "outputs": [],
   "source": [
    "question4 <- question4[!(question4$smart1 == 0),]\n",
    "question4 <- question4[!(question4$smart1 == 8),]\n",
    "question4 <- question4[!(question4$smart1 == 9),]\n",
    "question4 <- question4[!(question4$educ2 == 2),]\n",
    "question4 <- question4[!(question4$educ2 == 5),]\n",
    "question4 <- question4[!(question4$educ2 == 6),]\n",
    "question4 <- question4[!(question4$educ2 == 7),]\n",
    "question4 <- question4[!(question4$educ2 == 98),]\n",
    "question4 <- question4[!(question4$educ2 == 99),]\n",
    "question4 <- question4[!(question4$educ2 == 0),]"
   ]
  },
  {
   "cell_type": "code",
   "execution_count": 75,
   "metadata": {
    "collapsed": false
   },
   "outputs": [
    {
     "data": {
      "image/png": "[encoded data removed]",
      "text/plain": [
       "plot without title"
      ]
     },
     "metadata": {},
     "output_type": "display_data"
    }
   ],
   "source": [
    "a <- c(\"Yes, smartphone\",\"No, not a smartphone\")\n",
    "barplot(table(question4), xlab=\"Education Level\", ylab=\"Is a smartphone\", beside =TRUE,\n",
    "        col=c(\"green\",\"blue\"),\n",
    "        cex.names=0.5,\n",
    "        legend.text=a,\n",
    "        names.arg=c(\"LT HS\",\"HS Grad\",\"Some Coll\",\"Coll Grad+\"),\n",
    "        width=c(0.1,0.1,0.1,0.1)\n",
    "       )"
   ]
  },
  {
   "cell_type": "markdown",
   "metadata": {},
   "source": [
    "# Q5: How does education impact the want for having high speed internet at home?\n",
    "Answer: We observe more educated people want to have a high speed internet. "
   ]
  },
  {
   "cell_type": "code",
   "execution_count": 76,
   "metadata": {
    "collapsed": true
   },
   "outputs": [],
   "source": [
    "question5 <- select(data, bbsmart2, educ2)"
   ]
  },
  {
   "cell_type": "code",
   "execution_count": 77,
   "metadata": {
    "collapsed": true
   },
   "outputs": [],
   "source": [
    "question5 <- as.data.frame(question5)"
   ]
  },
  {
   "cell_type": "code",
   "execution_count": 78,
   "metadata": {
    "collapsed": true
   },
   "outputs": [],
   "source": [
    "question5[is.na(question5\n",
    "               )] <- 0"
   ]
  },
  {
   "cell_type": "code",
   "execution_count": 80,
   "metadata": {
    "collapsed": true
   },
   "outputs": [],
   "source": [
    "question5 <- question5[!(question5$bbsmart2 == 0),]\n",
    "question5 <- question5[!(question5$bbsmart2 == 8),]\n",
    "question5 <- question5[!(question5$bbsmart2 == 9),]\n",
    "question5 <- question5[!(question5$educ2 == 2),]\n",
    "question5 <- question5[!(question5$educ2 == 5),]\n",
    "question5 <- question5[!(question5$educ2 == 6),]\n",
    "question5 <- question5[!(question5$educ2 == 7),]\n",
    "question5 <- question5[!(question5$educ2 == 98),]\n",
    "question5 <- question5[!(question5$educ2 == 99),]\n",
    "question5 <- question5[!(question5$educ2 == 0),]"
   ]
  },
  {
   "cell_type": "code",
   "execution_count": 81,
   "metadata": {
    "collapsed": false
   },
   "outputs": [
    {
     "data": {
      "image/png": "[encoded data removed]",
      "text/plain": [
       "plot without title"
      ]
     },
     "metadata": {},
     "output_type": "display_data"
    }
   ],
   "source": [
    "a <- c(\"Yes, want high speed internet\",\"No, do not want high speed internet\")\n",
    "barplot(table(question5), xlab=\"Education Level\", ylab=\"Want high speed net\", beside =TRUE,\n",
    "        col=c(\"purple\",\"red\"),\n",
    "        cex.names=0.5,\n",
    "        legend.text=a,\n",
    "        names.arg=c(\"LT HS\",\"HS Grad\",\"Some Coll\",\"Coll Grad+\"),\n",
    "        width=c(0.1,0.1,0.1,0.1)\n",
    "       )"
   ]
  },
  {
   "cell_type": "code",
   "execution_count": null,
   "metadata": {
    "collapsed": true
   },
   "outputs": [],
   "source": []
  }
 ],
 "metadata": {
  "kernelspec": {
   "display_name": "R",
   "language": "R",
   "name": "ir"
  },
  "language_info": {
   "codemirror_mode": "r",
   "file_extension": ".r",
   "mimetype": "text/x-r-source",
   "name": "R",
   "pygments_lexer": "r",
   "version": "3.3.2"
  }
 },
 "nbformat": 4,
 "nbformat_minor": 2
}
