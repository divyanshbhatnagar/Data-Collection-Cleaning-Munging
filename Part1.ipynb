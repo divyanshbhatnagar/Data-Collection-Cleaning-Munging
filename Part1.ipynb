{
 "cells": [
  {
   "cell_type": "code",
   "execution_count": 1,
   "metadata": {
    "collapsed": false
   },
   "outputs": [
    {
     "name": "stdout",
     "output_type": "stream",
     "text": [
      "package 'twitteR' successfully unpacked and MD5 sums checked\n",
      "\n",
      "The downloaded binary packages are in\n",
      "\tC:\\Users\\divya\\AppData\\Local\\Temp\\RtmpsVa7ak\\downloaded_packages\n"
     ]
    }
   ],
   "source": [
    "install.packages(\"twitteR\", repos=\"http://cran.us.r-project.org\")"
   ]
  },
  {
   "cell_type": "code",
   "execution_count": 2,
   "metadata": {
    "collapsed": true
   },
   "outputs": [],
   "source": [
    "library(twitteR)"
   ]
  },
  {
   "cell_type": "code",
   "execution_count": 3,
   "metadata": {
    "collapsed": false
   },
   "outputs": [
    {
     "name": "stdout",
     "output_type": "stream",
     "text": [
      "[1] \"Using direct authentication\"\n"
     ]
    }
   ],
   "source": [
    "api_key <- \"VdF0NV0KfaKUzfO6Gsjae8riQ\"\n",
    "api_secret <- \"zZmTpG616jXcFhVgDphyUAHk4G2eGJo5HsgQJHXf1yUjMfoHUy\"\n",
    "token <- \"2184309408-tirkKFSzbQ6z2NBe9505WtZq2zuxsAdwzAVTimy\"\n",
    "token_secret <- \"JBWIHbFzd0a6TIjmBsLZ2yojlBmDt9GQuzjwqfvcwK0e0\"\n",
    "setup_twitter_oauth(api_key, api_secret, token, token_secret)"
   ]
  },
  {
   "cell_type": "code",
   "execution_count": 5,
   "metadata": {
    "collapsed": true
   },
   "outputs": [],
   "source": [
    "tweets_db <- searchTwitter('#nba OR Steph Curry', n=50)"
   ]
  },
  {
   "cell_type": "code",
   "execution_count": 6,
   "metadata": {
    "collapsed": false
   },
   "outputs": [
    {
     "data": {
      "text/plain": [
       "[[1]]\n",
       "[1] \"HarrisKullin: RT @_NFLFrank23: Steph Curry.\\n\\n- Kyrie owns him.\\n- Klay guards other PG's for him.\\n- Blows 3-1 Finals lead after winning unanimous MVP. htt",
       "\"\n",
       "\n",
       "[[2]]\n",
       "[1] \"JaredWarzala: RT @DragonflyJonez: Hey whats up. Im Steph Curry&amp; Im here to tell you about my friend. He's a pretty cool guy. I call him JC. You might kno",
       "\"\n",
       "\n",
       "[[3]]\n",
       "[1] \"baller482: RT @BobbyBucketsYT: 96 MASTER STEPH CURRY - 95 3PT +11 BOOST IS INSANE!!! - NBA Live Mobile: https://t.co/veBGMZM9hs via @YouTube\"\n",
       "\n",
       "[[4]]\n",
       "[1] \"BobbyBucketsYT: 96 MASTER STEPH CURRY - 95 3PT +11 BOOST IS INSANE!!! - NBA Live Mobile: https://t.co/veBGMZM9hs via @YouTube\"\n",
       "\n",
       "[[5]]\n",
       "[1] \"Daqueef: Remember when everybody use to talk about Steph Curry last year? Lol\"\n",
       "\n",
       "[[6]]\n",
       "[1] \"Chris_Canvas: RT @iDailyRapFacts: Steph Curry and Chance The Rapper <ed><U+00A0><U+00BD><ed><U+00B8><U+0082> https://t.co/eAkHQzaZvm\"\n"
      ]
     },
     "metadata": {},
     "output_type": "display_data"
    }
   ],
   "source": [
    "head(tweets_db)"
   ]
  },
  {
   "cell_type": "code",
   "execution_count": 7,
   "metadata": {
    "collapsed": false
   },
   "outputs": [
    {
     "data": {
      "text/plain": [
       "[[1]]\n",
       "[1] \"BobbyBucketsYT: 96 MASTER STEPH CURRY - 95 3PT +11 BOOST IS INSANE!!! - NBA Live Mobile: https://t.co/veBGMZM9hs via @YouTube\"\n",
       "\n",
       "[[2]]\n",
       "[1] \"Daqueef: Remember when everybody use to talk about Steph Curry last year? Lol\"\n",
       "\n",
       "[[3]]\n",
       "[1] \"GhostMcHistory: @DaytonLOWDers Drake. Steph Curry.\"\n",
       "\n",
       "[[4]]\n",
       "[1] \"BrianKorpacz: @Alexa_NYC Are you also going to play in Celeb basketball game? If you are you'll be like Steph Curry out there! <ed><U+00A0><U+00BC><ed><U+00BE><U+00BF>. <ed><U+00A0><U+00BC><ed><U+00BF><U+0080><ed><U+00A0><U+00BC><ed><U+00BF><U+0080><ed><U+00A0><U+00BC><ed><U+00BF><U+0080><ed><U+00A0><U+00BC><ed><U+00BF><U+0080>\"\n",
       "\n",
       "[[5]]\n",
       "[1] \"NathanHull0: Hannah just compared herself to Steph Curry\"\n",
       "\n",
       "[[6]]\n",
       "[1] \"Myong_Wisley: #NBA #Warriors STEPHEN CURRY #Jersey art print/#Poster GOLDEN STATE WARRIORS FREE S https://t.co/uiKale6XwH #MVP https://t.co/ZlJ3tMg5Sp\"\n"
      ]
     },
     "metadata": {},
     "output_type": "display_data"
    }
   ],
   "source": [
    " head(strip_retweets(tweets_db, strip_manual=TRUE, strip_mt=TRUE))"
   ]
  },
  {
   "cell_type": "code",
   "execution_count": 11,
   "metadata": {
    "collapsed": true
   },
   "outputs": [],
   "source": [
    "VancityReynolds <- getUser('VancityReynolds')"
   ]
  },
  {
   "cell_type": "code",
   "execution_count": 12,
   "metadata": {
    "collapsed": false
   },
   "outputs": [
    {
     "data": {
      "text/html": [
       "'Introducing people to the version of myself which tested highest in the focus groups.'"
      ],
      "text/latex": [
       "'Introducing people to the version of myself which tested highest in the focus groups.'"
      ],
      "text/markdown": [
       "'Introducing people to the version of myself which tested highest in the focus groups.'"
      ],
      "text/plain": [
       "[1] \"Introducing people to the version of myself which tested highest in the focus groups.\""
      ]
     },
     "metadata": {},
     "output_type": "display_data"
    }
   ],
   "source": [
    "VancityReynolds$getDescription()"
   ]
  },
  {
   "cell_type": "code",
   "execution_count": 13,
   "metadata": {
    "collapsed": false
   },
   "outputs": [
    {
     "data": {
      "text/html": [
       "4839460"
      ],
      "text/latex": [
       "4839460"
      ],
      "text/markdown": [
       "4839460"
      ],
      "text/plain": [
       "[1] 4839460"
      ]
     },
     "metadata": {},
     "output_type": "display_data"
    }
   ],
   "source": [
    "VancityReynolds$getFollowersCount()"
   ]
  },
  {
   "cell_type": "code",
   "execution_count": 14,
   "metadata": {
    "collapsed": false
   },
   "outputs": [
    {
     "data": {
      "text/plain": [
       "$`19666861`\n",
       "[1] \"KevinMcCarthyTV\"\n",
       "\n",
       "$`163297163`\n",
       "[1] \"ConstanceWu\"\n",
       "\n",
       "$`14529929`\n",
       "[1] \"jaketapper\"\n",
       "\n",
       "$`7334402`\n",
       "[1] \"alfranken\"\n",
       "\n",
       "$`21059255`\n",
       "[1] \"tedlieu\"\n"
      ]
     },
     "metadata": {},
     "output_type": "display_data"
    }
   ],
   "source": [
    "VancityReynolds$getFriends(n=5)"
   ]
  },
  {
   "cell_type": "code",
   "execution_count": 15,
   "metadata": {
    "collapsed": false
   },
   "outputs": [
    {
     "data": {
      "text/plain": [
       "[[1]]\n",
       "[1] \"KevinMcCarthyTV: @VancityReynolds When u start a tweet with someone's twitter name, it only goes to timeline of ur shared followers. LOGAN is a masterpiece!\"\n",
       "\n",
       "[[2]]\n",
       "[1] \"KevinMcCarthyTV: @VancityReynolds Tweet that again but put a . or anything in front of @RealHughJackman. That way it goes out to all ur followers! Loved it!\"\n",
       "\n",
       "[[3]]\n",
       "[1] \"jaketapper: As always, THIS is one of the most important stories, not whether the president is a meanie to reporters https://t.co/pGzl9Gl9n9\"\n",
       "\n",
       "[[4]]\n",
       "[1] \"WaitressMusical: We #CantWaitress for @SaraBareilles to join our cast on March 31!\\nhttps://t.co/K998duKHhA https://t.co/dpz61lPIcD\"\n",
       "\n",
       "[[5]]\n",
       "[1] \"robdelaney: Thumbs up if you have a safe filled with polaroids of your daughter showering! https://t.co/HE3dkfw2Up\"\n"
      ]
     },
     "metadata": {},
     "output_type": "display_data"
    }
   ],
   "source": [
    "VancityReynolds$getFavorites(n=5)"
   ]
  },
  {
   "cell_type": "code",
   "execution_count": 16,
   "metadata": {
    "collapsed": true
   },
   "outputs": [],
   "source": [
    "df <- twListToDF(tweets_db)"
   ]
  },
  {
   "cell_type": "code",
   "execution_count": 17,
   "metadata": {
    "collapsed": false
   },
   "outputs": [
    {
     "data": {
      "text/html": [
       "<table>\n",
       "<thead><tr><th scope=col>text</th><th scope=col>favorited</th><th scope=col>favoriteCount</th><th scope=col>replyToSN</th><th scope=col>created</th><th scope=col>truncated</th><th scope=col>replyToSID</th><th scope=col>id</th><th scope=col>replyToUID</th><th scope=col>statusSource</th><th scope=col>screenName</th><th scope=col>retweetCount</th><th scope=col>isRetweet</th><th scope=col>retweeted</th><th scope=col>longitude</th><th scope=col>latitude</th></tr></thead>\n",
       "<tbody>\n",
       "\t<tr><td>RT @_NFLFrank23: Steph Curry.\n",
       "\n",
       "- Kyrie owns him.\n",
       "- Klay guards other PG's for him.\n",
       "- Blows 3-1 Finals lead after winning unanimous MVP. htt…</td><td>FALSE                                                                                                                                           </td><td>0                                                                                                                                               </td><td>NA                                                                                                                                              </td><td>2017-02-18 00:49:58                                                                                                                             </td><td>FALSE                                                                                                                                           </td><td>NA                                                                                                                                              </td><td>832753991498948610                                                                                                                              </td><td>NA                                                                                                                                              </td><td>&lt;a href=\"http://twitter.com/download/iphone\" rel=\"nofollow\"&gt;Twitter for iPhone&lt;/a&gt;                                                  </td><td><span style=white-space:pre-wrap>HarrisKullin  </span>                                                                                          </td><td><span style=white-space:pre-wrap>  16</span>                                                                                                    </td><td> TRUE                                                                                                                                           </td><td>FALSE                                                                                                                                           </td><td>NA                                                                                                                                              </td><td>NA                                                                                                                                              </td></tr>\n",
       "\t<tr><td>RT @DragonflyJonez: Hey whats up. Im Steph Curry&amp;amp; Im here to tell you about my friend. He's a pretty cool guy. I call him JC. You might kno…</td><td>FALSE                                                                                                                                               </td><td>0                                                                                                                                                   </td><td>NA                                                                                                                                                  </td><td>2017-02-18 00:49:55                                                                                                                                 </td><td>FALSE                                                                                                                                               </td><td>NA                                                                                                                                                  </td><td>832753980518330371                                                                                                                                  </td><td>NA                                                                                                                                                  </td><td>&lt;a href=\"http://twitter.com/download/iphone\" rel=\"nofollow\"&gt;Twitter for iPhone&lt;/a&gt;                                                      </td><td><span style=white-space:pre-wrap>JaredWarzala  </span>                                                                                              </td><td>1434                                                                                                                                                </td><td> TRUE                                                                                                                                               </td><td>FALSE                                                                                                                                               </td><td>NA                                                                                                                                                  </td><td>NA                                                                                                                                                  </td></tr>\n",
       "\t<tr><td><span style=white-space:pre-wrap>RT @BobbyBucketsYT: 96 MASTER STEPH CURRY - 95 3PT +11 BOOST IS INSANE!!! - NBA Live Mobile: https://t.co/veBGMZM9hs via @YouTube               </span></td><td>FALSE                                                                                                                                                                                   </td><td>0                                                                                                                                                                                       </td><td>NA                                                                                                                                                                                      </td><td>2017-02-18 00:48:18                                                                                                                                                                     </td><td>FALSE                                                                                                                                                                                   </td><td>NA                                                                                                                                                                                      </td><td>832753572534169604                                                                                                                                                                      </td><td>NA                                                                                                                                                                                      </td><td>&lt;a href=\"http://twitter.com/download/iphone\" rel=\"nofollow\"&gt;Twitter for iPhone&lt;/a&gt;                                                                                          </td><td><span style=white-space:pre-wrap>baller482     </span>                                                                                                                                  </td><td><span style=white-space:pre-wrap>   1</span>                                                                                                                                            </td><td> TRUE                                                                                                                                                                                   </td><td>FALSE                                                                                                                                                                                   </td><td>NA                                                                                                                                                                                      </td><td>NA                                                                                                                                                                                      </td></tr>\n",
       "\t<tr><td><span style=white-space:pre-wrap>96 MASTER STEPH CURRY - 95 3PT +11 BOOST IS INSANE!!! - NBA Live Mobile: https://t.co/veBGMZM9hs via @YouTube                                   </span></td><td>FALSE                                                                                                                                                                                   </td><td>1                                                                                                                                                                                       </td><td>NA                                                                                                                                                                                      </td><td>2017-02-18 00:48:08                                                                                                                                                                     </td><td>FALSE                                                                                                                                                                                   </td><td>NA                                                                                                                                                                                      </td><td>832753531039932416                                                                                                                                                                      </td><td>NA                                                                                                                                                                                      </td><td><span style=white-space:pre-wrap>&lt;a href=\"http://www.google.com/\" rel=\"nofollow\"&gt;Google&lt;/a&gt;                        </span>                                                  </td><td>BobbyBucketsYT                                                                                                                                                                          </td><td><span style=white-space:pre-wrap>   1</span>                                                                                                                                            </td><td>FALSE                                                                                                                                                                                   </td><td>FALSE                                                                                                                                                                                   </td><td>NA                                                                                                                                                                                      </td><td>NA                                                                                                                                                                                      </td></tr>\n",
       "\t<tr><td><span style=white-space:pre-wrap>Remember when everybody use to talk about Steph Curry last year? Lol                                                                            </span></td><td>FALSE                                                                                                                                                                                   </td><td>0                                                                                                                                                                                       </td><td>NA                                                                                                                                                                                      </td><td>2017-02-18 00:47:09                                                                                                                                                                     </td><td>FALSE                                                                                                                                                                                   </td><td>NA                                                                                                                                                                                      </td><td>832753286268661763                                                                                                                                                                      </td><td>NA                                                                                                                                                                                      </td><td>&lt;a href=\"http://twitter.com/download/iphone\" rel=\"nofollow\"&gt;Twitter for iPhone&lt;/a&gt;                                                                                          </td><td><span style=white-space:pre-wrap>Daqueef       </span>                                                                                                                                  </td><td><span style=white-space:pre-wrap>   0</span>                                                                                                                                            </td><td>FALSE                                                                                                                                                                                   </td><td>FALSE                                                                                                                                                                                   </td><td>NA                                                                                                                                                                                      </td><td>NA                                                                                                                                                                                      </td></tr>\n",
       "\t<tr><td><span style=white-space:pre-wrap>RT @iDailyRapFacts: Steph Curry and Chance The Rapper &lt;ed&gt;&lt;U+00A0&gt;&lt;U+00BD&gt;&lt;ed&gt;&lt;U+00B8&gt;&lt;U+0082&gt; https://t.co/eAkHQzaZvm                          </span></td><td>FALSE                                                                                                                                                                                                                       </td><td>0                                                                                                                                                                                                                           </td><td>NA                                                                                                                                                                                                                          </td><td>2017-02-18 00:47:04                                                                                                                                                                                                         </td><td>FALSE                                                                                                                                                                                                                       </td><td>NA                                                                                                                                                                                                                          </td><td>832753261509742592                                                                                                                                                                                                          </td><td>NA                                                                                                                                                                                                                          </td><td>&lt;a href=\"http://twitter.com/download/iphone\" rel=\"nofollow\"&gt;Twitter for iPhone&lt;/a&gt;                                                                                                                              </td><td><span style=white-space:pre-wrap>Chris_Canvas  </span>                                                                                                                                                                      </td><td> 412                                                                                                                                                                                                                        </td><td> TRUE                                                                                                                                                                                                                       </td><td>FALSE                                                                                                                                                                                                                       </td><td>NA                                                                                                                                                                                                                          </td><td>NA                                                                                                                                                                                                                          </td></tr>\n",
       "</tbody>\n",
       "</table>\n"
      ],
      "text/latex": [
       "\\begin{tabular}{r|llllllllllllllll}\n",
       " text & favorited & favoriteCount & replyToSN & created & truncated & replyToSID & id & replyToUID & statusSource & screenName & retweetCount & isRetweet & retweeted & longitude & latitude\\\\\n",
       "\\hline\n",
       "\t RT @\\_NFLFrank23: Steph Curry.\n",
       "\n",
       "- Kyrie owns him.\n",
       "- Klay guards other PG's for him.\n",
       "- Blows 3-1 Finals lead after winning unanimous MVP. htt… & FALSE                                                                                                                                              & 0                                                                                                                                                  & NA                                                                                                                                                 & 2017-02-18 00:49:58                                                                                                                                & FALSE                                                                                                                                              & NA                                                                                                                                                 & 832753991498948610                                                                                                                                 & NA                                                                                                                                                 & <a href=\"http://twitter.com/download/iphone\" rel=\"nofollow\">Twitter for iPhone</a>                                                                 & HarrisKullin                                                                                                                                       &   16                                                                                                                                               &  TRUE                                                                                                                                              & FALSE                                                                                                                                              & NA                                                                                                                                                 & NA                                                                                                                                                \\\\\n",
       "\t RT @DragonflyJonez: Hey whats up. Im Steph Curry\\&amp; Im here to tell you about my friend. He's a pretty cool guy. I call him JC. You might kno… & FALSE                                                                                                                                              & 0                                                                                                                                                  & NA                                                                                                                                                 & 2017-02-18 00:49:55                                                                                                                                & FALSE                                                                                                                                              & NA                                                                                                                                                 & 832753980518330371                                                                                                                                 & NA                                                                                                                                                 & <a href=\"http://twitter.com/download/iphone\" rel=\"nofollow\">Twitter for iPhone</a>                                                                 & JaredWarzala                                                                                                                                       & 1434                                                                                                                                               &  TRUE                                                                                                                                              & FALSE                                                                                                                                              & NA                                                                                                                                                 & NA                                                                                                                                                \\\\\n",
       "\t RT @BobbyBucketsYT: 96 MASTER STEPH CURRY - 95 3PT +11 BOOST IS INSANE!!! - NBA Live Mobile: https://t.co/veBGMZM9hs via @YouTube                & FALSE                                                                                                                                            & 0                                                                                                                                                & NA                                                                                                                                               & 2017-02-18 00:48:18                                                                                                                              & FALSE                                                                                                                                            & NA                                                                                                                                               & 832753572534169604                                                                                                                               & NA                                                                                                                                               & <a href=\"http://twitter.com/download/iphone\" rel=\"nofollow\">Twitter for iPhone</a>                                                               & baller482                                                                                                                                        &    1                                                                                                                                             &  TRUE                                                                                                                                            & FALSE                                                                                                                                            & NA                                                                                                                                               & NA                                                                                                                                              \\\\\n",
       "\t 96 MASTER STEPH CURRY - 95 3PT +11 BOOST IS INSANE!!! - NBA Live Mobile: https://t.co/veBGMZM9hs via @YouTube                                    & FALSE                                                                                                                                            & 1                                                                                                                                                & NA                                                                                                                                               & 2017-02-18 00:48:08                                                                                                                              & FALSE                                                                                                                                            & NA                                                                                                                                               & 832753531039932416                                                                                                                               & NA                                                                                                                                               & <a href=\"http://www.google.com/\" rel=\"nofollow\">Google</a>                                                                                       & BobbyBucketsYT                                                                                                                                   &    1                                                                                                                                             & FALSE                                                                                                                                            & FALSE                                                                                                                                            & NA                                                                                                                                               & NA                                                                                                                                              \\\\\n",
       "\t Remember when everybody use to talk about Steph Curry last year? Lol                                                                             & FALSE                                                                                                                                            & 0                                                                                                                                                & NA                                                                                                                                               & 2017-02-18 00:47:09                                                                                                                              & FALSE                                                                                                                                            & NA                                                                                                                                               & 832753286268661763                                                                                                                               & NA                                                                                                                                               & <a href=\"http://twitter.com/download/iphone\" rel=\"nofollow\">Twitter for iPhone</a>                                                               & Daqueef                                                                                                                                          &    0                                                                                                                                             & FALSE                                                                                                                                            & FALSE                                                                                                                                            & NA                                                                                                                                               & NA                                                                                                                                              \\\\\n",
       "\t RT @iDailyRapFacts: Steph Curry and Chance The Rapper <ed><U+00A0><U+00BD><ed><U+00B8><U+0082> https://t.co/eAkHQzaZvm                           & FALSE                                                                                                                                            & 0                                                                                                                                                & NA                                                                                                                                               & 2017-02-18 00:47:04                                                                                                                              & FALSE                                                                                                                                            & NA                                                                                                                                               & 832753261509742592                                                                                                                               & NA                                                                                                                                               & <a href=\"http://twitter.com/download/iphone\" rel=\"nofollow\">Twitter for iPhone</a>                                                               & Chris\\_Canvas                                                                                                                                   &  412                                                                                                                                             &  TRUE                                                                                                                                            & FALSE                                                                                                                                            & NA                                                                                                                                               & NA                                                                                                                                              \\\\\n",
       "\\end{tabular}\n"
      ],
      "text/markdown": [
       "\n",
       "text | favorited | favoriteCount | replyToSN | created | truncated | replyToSID | id | replyToUID | statusSource | screenName | retweetCount | isRetweet | retweeted | longitude | latitude | \n",
       "|---|---|---|---|---|---|\n",
       "| RT @_NFLFrank23: Steph Curry.\n",
       "\n",
       "- Kyrie owns him.\n",
       "- Klay guards other PG's for him.\n",
       "- Blows 3-1 Finals lead after winning unanimous MVP. htt… | FALSE                                                                                                                                            | 0                                                                                                                                                | NA                                                                                                                                               | 2017-02-18 00:49:58                                                                                                                              | FALSE                                                                                                                                            | NA                                                                                                                                               | 832753991498948610                                                                                                                               | NA                                                                                                                                               | <a href=\"http://twitter.com/download/iphone\" rel=\"nofollow\">Twitter for iPhone</a>                                                               | HarrisKullin                                                                                                                                     |   16                                                                                                                                             |  TRUE                                                                                                                                            | FALSE                                                                                                                                            | NA                                                                                                                                               | NA                                                                                                                                               | \n",
       "| RT @DragonflyJonez: Hey whats up. Im Steph Curry&amp; Im here to tell you about my friend. He's a pretty cool guy. I call him JC. You might kno… | FALSE                                                                                                                                            | 0                                                                                                                                                | NA                                                                                                                                               | 2017-02-18 00:49:55                                                                                                                              | FALSE                                                                                                                                            | NA                                                                                                                                               | 832753980518330371                                                                                                                               | NA                                                                                                                                               | <a href=\"http://twitter.com/download/iphone\" rel=\"nofollow\">Twitter for iPhone</a>                                                               | JaredWarzala                                                                                                                                     | 1434                                                                                                                                             |  TRUE                                                                                                                                            | FALSE                                                                                                                                            | NA                                                                                                                                               | NA                                                                                                                                               | \n",
       "| RT @BobbyBucketsYT: 96 MASTER STEPH CURRY - 95 3PT +11 BOOST IS INSANE!!! - NBA Live Mobile: https://t.co/veBGMZM9hs via @YouTube                | FALSE                                                                                                                                            | 0                                                                                                                                                | NA                                                                                                                                               | 2017-02-18 00:48:18                                                                                                                              | FALSE                                                                                                                                            | NA                                                                                                                                               | 832753572534169604                                                                                                                               | NA                                                                                                                                               | <a href=\"http://twitter.com/download/iphone\" rel=\"nofollow\">Twitter for iPhone</a>                                                               | baller482                                                                                                                                        |    1                                                                                                                                             |  TRUE                                                                                                                                            | FALSE                                                                                                                                            | NA                                                                                                                                               | NA                                                                                                                                               | \n",
       "| 96 MASTER STEPH CURRY - 95 3PT +11 BOOST IS INSANE!!! - NBA Live Mobile: https://t.co/veBGMZM9hs via @YouTube                                    | FALSE                                                                                                                                            | 1                                                                                                                                                | NA                                                                                                                                               | 2017-02-18 00:48:08                                                                                                                              | FALSE                                                                                                                                            | NA                                                                                                                                               | 832753531039932416                                                                                                                               | NA                                                                                                                                               | <a href=\"http://www.google.com/\" rel=\"nofollow\">Google</a>                                                                                       | BobbyBucketsYT                                                                                                                                   |    1                                                                                                                                             | FALSE                                                                                                                                            | FALSE                                                                                                                                            | NA                                                                                                                                               | NA                                                                                                                                               | \n",
       "| Remember when everybody use to talk about Steph Curry last year? Lol                                                                             | FALSE                                                                                                                                            | 0                                                                                                                                                | NA                                                                                                                                               | 2017-02-18 00:47:09                                                                                                                              | FALSE                                                                                                                                            | NA                                                                                                                                               | 832753286268661763                                                                                                                               | NA                                                                                                                                               | <a href=\"http://twitter.com/download/iphone\" rel=\"nofollow\">Twitter for iPhone</a>                                                               | Daqueef                                                                                                                                          |    0                                                                                                                                             | FALSE                                                                                                                                            | FALSE                                                                                                                                            | NA                                                                                                                                               | NA                                                                                                                                               | \n",
       "| RT @iDailyRapFacts: Steph Curry and Chance The Rapper <ed><U+00A0><U+00BD><ed><U+00B8><U+0082> https://t.co/eAkHQzaZvm                           | FALSE                                                                                                                                            | 0                                                                                                                                                | NA                                                                                                                                               | 2017-02-18 00:47:04                                                                                                                              | FALSE                                                                                                                                            | NA                                                                                                                                               | 832753261509742592                                                                                                                               | NA                                                                                                                                               | <a href=\"http://twitter.com/download/iphone\" rel=\"nofollow\">Twitter for iPhone</a>                                                               | Chris_Canvas                                                                                                                                     |  412                                                                                                                                             |  TRUE                                                                                                                                            | FALSE                                                                                                                                            | NA                                                                                                                                               | NA                                                                                                                                               | \n",
       "\n",
       "\n"
      ],
      "text/plain": [
       "  text                                                                                                                                            \n",
       "1 RT @_NFLFrank23: Steph Curry.\\n\\n- Kyrie owns him.\\n- Klay guards other PG's for him.\\n- Blows 3-1 Finals lead after winning unanimous MVP. htt",
       "\n",
       "2 RT @DragonflyJonez: Hey whats up. Im Steph Curry&amp; Im here to tell you about my friend. He's a pretty cool guy. I call him JC. You might kno",
       "\n",
       "3 RT @BobbyBucketsYT: 96 MASTER STEPH CURRY - 95 3PT +11 BOOST IS INSANE!!! - NBA Live Mobile: https://t.co/veBGMZM9hs via @YouTube               \n",
       "4 96 MASTER STEPH CURRY - 95 3PT +11 BOOST IS INSANE!!! - NBA Live Mobile: https://t.co/veBGMZM9hs via @YouTube                                   \n",
       "5 Remember when everybody use to talk about Steph Curry last year? Lol                                                                            \n",
       "6 RT @iDailyRapFacts: Steph Curry and Chance The Rapper <ed><U+00A0><U+00BD><ed><U+00B8><U+0082> https://t.co/eAkHQzaZvm                          \n",
       "  favorited favoriteCount replyToSN created             truncated replyToSID\n",
       "1 FALSE     0             NA        2017-02-18 00:49:58 FALSE     NA        \n",
       "2 FALSE     0             NA        2017-02-18 00:49:55 FALSE     NA        \n",
       "3 FALSE     0             NA        2017-02-18 00:48:18 FALSE     NA        \n",
       "4 FALSE     1             NA        2017-02-18 00:48:08 FALSE     NA        \n",
       "5 FALSE     0             NA        2017-02-18 00:47:09 FALSE     NA        \n",
       "6 FALSE     0             NA        2017-02-18 00:47:04 FALSE     NA        \n",
       "  id                 replyToUID\n",
       "1 832753991498948610 NA        \n",
       "2 832753980518330371 NA        \n",
       "3 832753572534169604 NA        \n",
       "4 832753531039932416 NA        \n",
       "5 832753286268661763 NA        \n",
       "6 832753261509742592 NA        \n",
       "  statusSource                                                                      \n",
       "1 <a href=\"http://twitter.com/download/iphone\" rel=\"nofollow\">Twitter for iPhone</a>\n",
       "2 <a href=\"http://twitter.com/download/iphone\" rel=\"nofollow\">Twitter for iPhone</a>\n",
       "3 <a href=\"http://twitter.com/download/iphone\" rel=\"nofollow\">Twitter for iPhone</a>\n",
       "4 <a href=\"http://www.google.com/\" rel=\"nofollow\">Google</a>                        \n",
       "5 <a href=\"http://twitter.com/download/iphone\" rel=\"nofollow\">Twitter for iPhone</a>\n",
       "6 <a href=\"http://twitter.com/download/iphone\" rel=\"nofollow\">Twitter for iPhone</a>\n",
       "  screenName     retweetCount isRetweet retweeted longitude latitude\n",
       "1 HarrisKullin     16          TRUE     FALSE     NA        NA      \n",
       "2 JaredWarzala   1434          TRUE     FALSE     NA        NA      \n",
       "3 baller482         1          TRUE     FALSE     NA        NA      \n",
       "4 BobbyBucketsYT    1         FALSE     FALSE     NA        NA      \n",
       "5 Daqueef           0         FALSE     FALSE     NA        NA      \n",
       "6 Chris_Canvas    412          TRUE     FALSE     NA        NA      "
      ]
     },
     "metadata": {},
     "output_type": "display_data"
    }
   ],
   "source": [
    "head(df)"
   ]
  },
  {
   "cell_type": "code",
   "execution_count": 18,
   "metadata": {
    "collapsed": true
   },
   "outputs": [],
   "source": [
    "sql_lite_file = tempfile()"
   ]
  },
  {
   "cell_type": "code",
   "execution_count": 20,
   "metadata": {
    "collapsed": false
   },
   "outputs": [
    {
     "name": "stderr",
     "output_type": "stream",
     "text": [
      "also installing the dependencies 'memoise', 'plogr'\n",
      "\n"
     ]
    },
    {
     "name": "stdout",
     "output_type": "stream",
     "text": [
      "package 'memoise' successfully unpacked and MD5 sums checked\n",
      "package 'plogr' successfully unpacked and MD5 sums checked\n",
      "package 'RSQLite' successfully unpacked and MD5 sums checked\n",
      "\n",
      "The downloaded binary packages are in\n",
      "\tC:\\Users\\divya\\AppData\\Local\\Temp\\RtmpsVa7ak\\downloaded_packages\n"
     ]
    }
   ],
   "source": [
    "install.packages(\"RSQLite\", repos=\"http://cran.r-project.org\")"
   ]
  },
  {
   "cell_type": "code",
   "execution_count": 21,
   "metadata": {
    "collapsed": false
   },
   "outputs": [
    {
     "name": "stderr",
     "output_type": "stream",
     "text": [
      "Loading required namespace: RSQLite\n"
     ]
    }
   ],
   "source": [
    "register_sqlite_backend(sql_lite_file)"
   ]
  },
  {
   "cell_type": "code",
   "execution_count": 22,
   "metadata": {
    "collapsed": false
   },
   "outputs": [
    {
     "data": {
      "text/html": [
       "TRUE"
      ],
      "text/latex": [
       "TRUE"
      ],
      "text/markdown": [
       "TRUE"
      ],
      "text/plain": [
       "[1] TRUE"
      ]
     },
     "metadata": {},
     "output_type": "display_data"
    }
   ],
   "source": [
    "store_tweets_db(tweets_db)"
   ]
  },
  {
   "cell_type": "code",
   "execution_count": 23,
   "metadata": {
    "collapsed": true
   },
   "outputs": [],
   "source": [
    "from_db = load_tweets_db()"
   ]
  },
  {
   "cell_type": "code",
   "execution_count": 24,
   "metadata": {
    "collapsed": false
   },
   "outputs": [
    {
     "data": {
      "text/plain": [
       "[[1]]\n",
       "[1] \"HarrisKullin: RT @_NFLFrank23: Steph Curry.\\n\\n- Kyrie owns him.\\n- Klay guards other PG's for him.\\n- Blows 3-1 Finals lead after winning unanimous MVP. htt",
       "\"\n",
       "\n",
       "[[2]]\n",
       "[1] \"JaredWarzala: RT @DragonflyJonez: Hey whats up. Im Steph Curry&amp; Im here to tell you about my friend. He's a pretty cool guy. I call him JC. You might kno",
       "\"\n",
       "\n",
       "[[3]]\n",
       "[1] \"baller482: RT @BobbyBucketsYT: 96 MASTER STEPH CURRY - 95 3PT +11 BOOST IS INSANE!!! - NBA Live Mobile: https://t.co/veBGMZM9hs via @YouTube\"\n",
       "\n",
       "[[4]]\n",
       "[1] \"BobbyBucketsYT: 96 MASTER STEPH CURRY - 95 3PT +11 BOOST IS INSANE!!! - NBA Live Mobile: https://t.co/veBGMZM9hs via @YouTube\"\n",
       "\n",
       "[[5]]\n",
       "[1] \"Daqueef: Remember when everybody use to talk about Steph Curry last year? Lol\"\n",
       "\n",
       "[[6]]\n",
       "[1] \"Chris_Canvas: RT @iDailyRapFacts: Steph Curry and Chance The Rapper <ed><U+00A0><U+00BD><ed><U+00B8><U+0082> https://t.co/eAkHQzaZvm\"\n"
      ]
     },
     "metadata": {},
     "output_type": "display_data"
    }
   ],
   "source": [
    "head(from_db)head(from_db)cran_tweets <- userTimeline('cranatic')"
   ]
  },
  {
   "cell_type": "code",
   "execution_count": 25,
   "metadata": {
    "collapsed": true
   },
   "outputs": [],
   "source": [
    "cran_tweets <- userTimeline('VancityReynolds')"
   ]
  },
  {
   "cell_type": "code",
   "execution_count": 26,
   "metadata": {
    "collapsed": false
   },
   "outputs": [
    {
     "data": {
      "text/plain": [
       "[[1]]\n",
       "[1] \"VancityReynolds: Yes! @RealHughJackman brings all 31 flavors of shit-kickery to Logan. Couldn't be happier for @mang0ld. Heart and s",
       " https://t.co/zmgLdjCB2E\"\n",
       "\n",
       "[[2]]\n",
       "[1] \"VancityReynolds: Right now. More than ever. \\n\\n https://t.co/dpZtDKARgm\"\n",
       "\n",
       "[[3]]\n",
       "[1] \"VancityReynolds: Gyllenhaal got pipes! This show is made of ALL the good stuff. Buy tickets. Sneak in. Do whatever you have to do.\\n \\nhttps://t.co/fpvOM7Hjzp\"\n",
       "\n",
       "[[4]]\n",
       "[1] \"VancityReynolds: Went to Disneyland because my daughter's obsessed with Mickey Mouse. She was so excited when I got home and told her.\"\n",
       "\n",
       "[[5]]\n",
       "[1] \"VancityReynolds: That which shall be named! Talk about it. Dance about it. Cry about it. But don't keep quiet about it.",
       " https://t.co/gv77f0S5h0\"\n"
      ]
     },
     "metadata": {},
     "output_type": "display_data"
    }
   ],
   "source": [
    "cran_tweets[1:5]"
   ]
  },
  {
   "cell_type": "code",
   "execution_count": 27,
   "metadata": {
    "collapsed": true
   },
   "outputs": [],
   "source": [
    "cran_tweets_large <- userTimeline('cranatic', n=100)"
   ]
  },
  {
   "cell_type": "code",
   "execution_count": 28,
   "metadata": {
    "collapsed": false
   },
   "outputs": [
    {
     "data": {
      "text/html": [
       "100"
      ],
      "text/latex": [
       "100"
      ],
      "text/markdown": [
       "100"
      ],
      "text/plain": [
       "[1] 100"
      ]
     },
     "metadata": {},
     "output_type": "display_data"
    }
   ],
   "source": [
    " length(cran_tweets_large)"
   ]
  },
  {
   "cell_type": "code",
   "execution_count": 29,
   "metadata": {
    "collapsed": true
   },
   "outputs": [],
   "source": [
    "avail_trends = availableTrendLocations()"
   ]
  },
  {
   "cell_type": "code",
   "execution_count": 30,
   "metadata": {
    "collapsed": false
   },
   "outputs": [
    {
     "data": {
      "text/html": [
       "<table>\n",
       "<thead><tr><th scope=col>name</th><th scope=col>country</th><th scope=col>woeid</th></tr></thead>\n",
       "<tbody>\n",
       "\t<tr><td>Worldwide</td><td>         </td><td>1        </td></tr>\n",
       "\t<tr><td>Winnipeg </td><td>Canada   </td><td>2972     </td></tr>\n",
       "\t<tr><td>Ottawa   </td><td>Canada   </td><td>3369     </td></tr>\n",
       "\t<tr><td>Quebec   </td><td>Canada   </td><td>3444     </td></tr>\n",
       "\t<tr><td>Montreal </td><td>Canada   </td><td>3534     </td></tr>\n",
       "\t<tr><td>Toronto  </td><td>Canada   </td><td>4118     </td></tr>\n",
       "</tbody>\n",
       "</table>\n"
      ],
      "text/latex": [
       "\\begin{tabular}{r|lll}\n",
       " name & country & woeid\\\\\n",
       "\\hline\n",
       "\t Worldwide &           & 1        \\\\\n",
       "\t Winnipeg  & Canada    & 2972     \\\\\n",
       "\t Ottawa    & Canada    & 3369     \\\\\n",
       "\t Quebec    & Canada    & 3444     \\\\\n",
       "\t Montreal  & Canada    & 3534     \\\\\n",
       "\t Toronto   & Canada    & 4118     \\\\\n",
       "\\end{tabular}\n"
      ],
      "text/markdown": [
       "\n",
       "name | country | woeid | \n",
       "|---|---|---|---|---|---|\n",
       "| Worldwide |           | 1         | \n",
       "| Winnipeg  | Canada    | 2972      | \n",
       "| Ottawa    | Canada    | 3369      | \n",
       "| Quebec    | Canada    | 3444      | \n",
       "| Montreal  | Canada    | 3534      | \n",
       "| Toronto   | Canada    | 4118      | \n",
       "\n",
       "\n"
      ],
      "text/plain": [
       "  name      country woeid\n",
       "1 Worldwide         1    \n",
       "2 Winnipeg  Canada  2972 \n",
       "3 Ottawa    Canada  3369 \n",
       "4 Quebec    Canada  3444 \n",
       "5 Montreal  Canada  3534 \n",
       "6 Toronto   Canada  4118 "
      ]
     },
     "metadata": {},
     "output_type": "display_data"
    }
   ],
   "source": [
    "head(avail_trends)"
   ]
  },
  {
   "cell_type": "code",
   "execution_count": 31,
   "metadata": {
    "collapsed": true
   },
   "outputs": [],
   "source": [
    "close_trends = closestTrendLocations(-42.8, -71.1)"
   ]
  },
  {
   "cell_type": "code",
   "execution_count": 32,
   "metadata": {
    "collapsed": false
   },
   "outputs": [
    {
     "data": {
      "text/html": [
       "<table>\n",
       "<thead><tr><th scope=col>name</th><th scope=col>country</th><th scope=col>woeid</th></tr></thead>\n",
       "<tbody>\n",
       "\t<tr><td>Concepcion</td><td>Chile     </td><td>349860    </td></tr>\n",
       "</tbody>\n",
       "</table>\n"
      ],
      "text/latex": [
       "\\begin{tabular}{r|lll}\n",
       " name & country & woeid\\\\\n",
       "\\hline\n",
       "\t Concepcion & Chile      & 349860    \\\\\n",
       "\\end{tabular}\n"
      ],
      "text/markdown": [
       "\n",
       "name | country | woeid | \n",
       "|---|\n",
       "| Concepcion | Chile      | 349860     | \n",
       "\n",
       "\n"
      ],
      "text/plain": [
       "  name       country woeid \n",
       "1 Concepcion Chile   349860"
      ]
     },
     "metadata": {},
     "output_type": "display_data"
    }
   ],
   "source": [
    "head(close_trends)"
   ]
  },
  {
   "cell_type": "code",
   "execution_count": 33,
   "metadata": {
    "collapsed": true
   },
   "outputs": [],
   "source": [
    "trends = getTrends(2367105)"
   ]
  },
  {
   "cell_type": "code",
   "execution_count": 34,
   "metadata": {
    "collapsed": false
   },
   "outputs": [
    {
     "data": {
      "text/html": [
       "<table>\n",
       "<thead><tr><th scope=col>name</th><th scope=col>url</th><th scope=col>query</th><th scope=col>woeid</th></tr></thead>\n",
       "<tbody>\n",
       "\t<tr><td>Crimson                               </td><td>http://twitter.com/search?q=Crimson   </td><td>Crimson                               </td><td>2367105                               </td></tr>\n",
       "\t<tr><td>Terriers                              </td><td>http://twitter.com/search?q=Terriers  </td><td>Terriers                              </td><td>2367105                               </td></tr>\n",
       "\t<tr><td>Huskies                               </td><td>http://twitter.com/search?q=Huskies   </td><td>Huskies                               </td><td>2367105                               </td></tr>\n",
       "\t<tr><td>#AAASmtg                              </td><td>http://twitter.com/search?q=%23AAASmtg</td><td>%23AAASmtg                            </td><td>2367105                               </td></tr>\n",
       "\t<tr><td>Lowell                                </td><td>http://twitter.com/search?q=Lowell    </td><td>Lowell                                </td><td>2367105                               </td></tr>\n",
       "\t<tr><td>Amtrak                                </td><td>http://twitter.com/search?q=Amtrak    </td><td>Amtrak                                </td><td>2367105                               </td></tr>\n",
       "</tbody>\n",
       "</table>\n"
      ],
      "text/latex": [
       "\\begin{tabular}{r|llll}\n",
       " name & url & query & woeid\\\\\n",
       "\\hline\n",
       "\t Crimson                                & http://twitter.com/search?q=Crimson    & Crimson                                & 2367105                               \\\\\n",
       "\t Terriers                               & http://twitter.com/search?q=Terriers   & Terriers                               & 2367105                               \\\\\n",
       "\t Huskies                                & http://twitter.com/search?q=Huskies    & Huskies                                & 2367105                               \\\\\n",
       "\t \\#AAASmtg                               & http://twitter.com/search?q=\\%23AAASmtg & \\%23AAASmtg                             & 2367105                                 \\\\\n",
       "\t Lowell                                 & http://twitter.com/search?q=Lowell     & Lowell                                 & 2367105                               \\\\\n",
       "\t Amtrak                                 & http://twitter.com/search?q=Amtrak     & Amtrak                                 & 2367105                               \\\\\n",
       "\\end{tabular}\n"
      ],
      "text/markdown": [
       "\n",
       "name | url | query | woeid | \n",
       "|---|---|---|---|---|---|\n",
       "| Crimson                                | http://twitter.com/search?q=Crimson    | Crimson                                | 2367105                                | \n",
       "| Terriers                               | http://twitter.com/search?q=Terriers   | Terriers                               | 2367105                                | \n",
       "| Huskies                                | http://twitter.com/search?q=Huskies    | Huskies                                | 2367105                                | \n",
       "| #AAASmtg                               | http://twitter.com/search?q=%23AAASmtg | %23AAASmtg                             | 2367105                                | \n",
       "| Lowell                                 | http://twitter.com/search?q=Lowell     | Lowell                                 | 2367105                                | \n",
       "| Amtrak                                 | http://twitter.com/search?q=Amtrak     | Amtrak                                 | 2367105                                | \n",
       "\n",
       "\n"
      ],
      "text/plain": [
       "  name     url                                    query      woeid  \n",
       "1 Crimson  http://twitter.com/search?q=Crimson    Crimson    2367105\n",
       "2 Terriers http://twitter.com/search?q=Terriers   Terriers   2367105\n",
       "3 Huskies  http://twitter.com/search?q=Huskies    Huskies    2367105\n",
       "4 #AAASmtg http://twitter.com/search?q=%23AAASmtg %23AAASmtg 2367105\n",
       "5 Lowell   http://twitter.com/search?q=Lowell     Lowell     2367105\n",
       "6 Amtrak   http://twitter.com/search?q=Amtrak     Amtrak     2367105"
      ]
     },
     "metadata": {},
     "output_type": "display_data"
    }
   ],
   "source": [
    "head(trends)"
   ]
  },
  {
   "cell_type": "code",
   "execution_count": null,
   "metadata": {
    "collapsed": true
   },
   "outputs": [],
   "source": []
  }
 ],
 "metadata": {
  "kernelspec": {
   "display_name": "R",
   "language": "R",
   "name": "ir"
  },
  "language_info": {
   "codemirror_mode": "r",
   "file_extension": ".r",
   "mimetype": "text/x-r-source",
   "name": "R",
   "pygments_lexer": "r",
   "version": "3.3.2"
  }
 },
 "nbformat": 4,
 "nbformat_minor": 2
}
