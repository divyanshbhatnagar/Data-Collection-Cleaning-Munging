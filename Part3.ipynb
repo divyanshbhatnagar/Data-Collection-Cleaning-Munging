{
 "cells": [
  {
   "cell_type": "markdown",
   "metadata": {},
   "source": [
    "# Installing required twitteR package"
   ]
  },
  {
   "cell_type": "code",
   "execution_count": 33,
   "metadata": {
    "collapsed": false
   },
   "outputs": [
    {
     "name": "stderr",
     "output_type": "stream",
     "text": [
      "Warning message:\n",
      "\"package 'twitteR' is in use and will not be installed\""
     ]
    }
   ],
   "source": [
    "install.packages(\"twitteR\", repos=\"http://cran.r-project.org\")"
   ]
  },
  {
   "cell_type": "code",
   "execution_count": 34,
   "metadata": {
    "collapsed": true
   },
   "outputs": [],
   "source": [
    "library(twitteR)"
   ]
  },
  {
   "cell_type": "markdown",
   "metadata": {},
   "source": [
    "# Setting twitter OAuth authentication"
   ]
  },
  {
   "cell_type": "code",
   "execution_count": 35,
   "metadata": {
    "collapsed": false
   },
   "outputs": [
    {
     "name": "stdout",
     "output_type": "stream",
     "text": [
      "[1] \"Using direct authentication\"\n"
     ]
    }
   ],
   "source": [
    "api_key <- \"VdF0NV0KfaKUzfO6Gsjae8riQ\"\n",
    "api_secret <- \"zZmTpG616jXcFhVgDphyUAHk4G2eGJo5HsgQJHXf1yUjMfoHUy\"\n",
    "token <- \"2184309408-tirkKFSzbQ6z2NBe9505WtZq2zuxsAdwzAVTimy\"\n",
    "token_secret <- \"JBWIHbFzd0a6TIjmBsLZ2yojlBmDt9GQuzjwqfvcwK0e0\"\n",
    "setup_twitter_oauth(api_key, api_secret, token, token_secret)"
   ]
  },
  {
   "cell_type": "code",
   "execution_count": 36,
   "metadata": {
    "collapsed": false
   },
   "outputs": [
    {
     "name": "stderr",
     "output_type": "stream",
     "text": [
      "Warning message:\n",
      "\"package 'ggmap' is in use and will not be installed\""
     ]
    }
   ],
   "source": [
    " install.packages(\"ggmap\", repos=\"http://cran.r-project.org\")"
   ]
  },
  {
   "cell_type": "code",
   "execution_count": 37,
   "metadata": {
    "collapsed": false
   },
   "outputs": [],
   "source": [
    "library(ggmap)"
   ]
  },
  {
   "cell_type": "markdown",
   "metadata": {},
   "source": [
    "Providing the location as a string"
   ]
  },
  {
   "cell_type": "code",
   "execution_count": 49,
   "metadata": {
    "collapsed": true
   },
   "outputs": [],
   "source": [
    "location = \"Buffalo, New York\""
   ]
  },
  {
   "cell_type": "markdown",
   "metadata": {},
   "source": [
    "# Fetching the associated geocode"
   ]
  },
  {
   "cell_type": "code",
   "execution_count": 39,
   "metadata": {
    "collapsed": false
   },
   "outputs": [
    {
     "name": "stderr",
     "output_type": "stream",
     "text": [
      "Information from URL : http://maps.googleapis.com/maps/api/geocode/json?address=Buffalo,%20New%20York&sensor=false\n"
     ]
    }
   ],
   "source": [
    "location_geocode <- geocode(location)"
   ]
  },
  {
   "cell_type": "code",
   "execution_count": 40,
   "metadata": {
    "collapsed": false
   },
   "outputs": [
    {
     "data": {
      "text/html": [
       "<table>\n",
       "<thead><tr><th scope=col>lon</th><th scope=col>lat</th></tr></thead>\n",
       "<tbody>\n",
       "\t<tr><td>-78.87837</td><td>42.88645 </td></tr>\n",
       "</tbody>\n",
       "</table>\n"
      ],
      "text/latex": [
       "\\begin{tabular}{r|ll}\n",
       " lon & lat\\\\\n",
       "\\hline\n",
       "\t -78.87837 & 42.88645 \\\\\n",
       "\\end{tabular}\n"
      ],
      "text/markdown": [
       "\n",
       "lon | lat | \n",
       "|---|\n",
       "| -78.87837 | 42.88645  | \n",
       "\n",
       "\n"
      ],
      "text/plain": [
       "  lon       lat     \n",
       "1 -78.87837 42.88645"
      ]
     },
     "metadata": {},
     "output_type": "display_data"
    }
   ],
   "source": [
    "location_geocode"
   ]
  },
  {
   "cell_type": "code",
   "execution_count": 41,
   "metadata": {
    "collapsed": false
   },
   "outputs": [],
   "source": [
    " trends_local = closestTrendLocations(location_geocode$lat, location_geocode$lon)"
   ]
  },
  {
   "cell_type": "code",
   "execution_count": 42,
   "metadata": {
    "collapsed": false
   },
   "outputs": [
    {
     "data": {
      "text/html": [
       "<table>\n",
       "<thead><tr><th scope=col>name</th><th scope=col>country</th><th scope=col>woeid</th></tr></thead>\n",
       "<tbody>\n",
       "\t<tr><td>Toronto</td><td>Canada </td><td>4118   </td></tr>\n",
       "</tbody>\n",
       "</table>\n"
      ],
      "text/latex": [
       "\\begin{tabular}{r|lll}\n",
       " name & country & woeid\\\\\n",
       "\\hline\n",
       "\t Toronto & Canada  & 4118   \\\\\n",
       "\\end{tabular}\n"
      ],
      "text/markdown": [
       "\n",
       "name | country | woeid | \n",
       "|---|\n",
       "| Toronto | Canada  | 4118    | \n",
       "\n",
       "\n"
      ],
      "text/plain": [
       "  name    country woeid\n",
       "1 Toronto Canada  4118 "
      ]
     },
     "metadata": {},
     "output_type": "display_data"
    }
   ],
   "source": [
    "trends_local"
   ]
  },
  {
   "cell_type": "code",
   "execution_count": 43,
   "metadata": {
    "collapsed": true
   },
   "outputs": [],
   "source": [
    "trends_current = getTrends(trends_local$woeid)"
   ]
  },
  {
   "cell_type": "code",
   "execution_count": 44,
   "metadata": {
    "collapsed": false
   },
   "outputs": [],
   "source": [
    "df = head(trends_current$name, n=10)"
   ]
  },
  {
   "cell_type": "code",
   "execution_count": 45,
   "metadata": {
    "collapsed": false
   },
   "outputs": [],
   "source": [
    "final_trends = as.data.frame(df)"
   ]
  },
  {
   "cell_type": "markdown",
   "metadata": {},
   "source": [
    "# The top 10 trends at the given location"
   ]
  },
  {
   "cell_type": "code",
   "execution_count": 46,
   "metadata": {
    "collapsed": false
   },
   "outputs": [
    {
     "data": {
      "text/html": [
       "<table>\n",
       "<thead><tr><th scope=col>df</th></tr></thead>\n",
       "<tbody>\n",
       "\t<tr><td>Legends Row        </td></tr>\n",
       "\t<tr><td>#TrumpRally        </td></tr>\n",
       "\t<tr><td>2018 Memorial Cup  </td></tr>\n",
       "\t<tr><td>#HistoricalCats    </td></tr>\n",
       "\t<tr><td>Drake              </td></tr>\n",
       "\t<tr><td>#endirectdelunivers</td></tr>\n",
       "\t<tr><td>#BritneyEverAfter  </td></tr>\n",
       "\t<tr><td>#NBAAllStarWeekend </td></tr>\n",
       "\t<tr><td>John Wall          </td></tr>\n",
       "\t<tr><td>Guy Fieri          </td></tr>\n",
       "</tbody>\n",
       "</table>\n"
      ],
      "text/latex": [
       "\\begin{tabular}{r|l}\n",
       " df\\\\\n",
       "\\hline\n",
       "\t Legends Row        \\\\\n",
       "\t \\#TrumpRally        \\\\\n",
       "\t 2018 Memorial Cup  \\\\\n",
       "\t \\#HistoricalCats    \\\\\n",
       "\t Drake              \\\\\n",
       "\t \\#endirectdelunivers\\\\\n",
       "\t \\#BritneyEverAfter  \\\\\n",
       "\t \\#NBAAllStarWeekend \\\\\n",
       "\t John Wall          \\\\\n",
       "\t Guy Fieri          \\\\\n",
       "\\end{tabular}\n"
      ],
      "text/markdown": [
       "\n",
       "df | \n",
       "|---|---|---|---|---|---|---|---|---|---|\n",
       "| Legends Row         | \n",
       "| #TrumpRally         | \n",
       "| 2018 Memorial Cup   | \n",
       "| #HistoricalCats     | \n",
       "| Drake               | \n",
       "| #endirectdelunivers | \n",
       "| #BritneyEverAfter   | \n",
       "| #NBAAllStarWeekend  | \n",
       "| John Wall           | \n",
       "| Guy Fieri           | \n",
       "\n",
       "\n"
      ],
      "text/plain": [
       "   df                 \n",
       "1  Legends Row        \n",
       "2  #TrumpRally        \n",
       "3  2018 Memorial Cup  \n",
       "4  #HistoricalCats    \n",
       "5  Drake              \n",
       "6  #endirectdelunivers\n",
       "7  #BritneyEverAfter  \n",
       "8  #NBAAllStarWeekend \n",
       "9  John Wall          \n",
       "10 Guy Fieri          "
      ]
     },
     "metadata": {},
     "output_type": "display_data"
    }
   ],
   "source": [
    "final_trends"
   ]
  },
  {
   "cell_type": "code",
   "execution_count": 53,
   "metadata": {
    "collapsed": false
   },
   "outputs": [
    {
     "name": "stdout",
     "output_type": "stream",
     "text": [
      "[1] \"The top trends in  Buffalo, New York\"\n"
     ]
    }
   ],
   "source": [
    "print(paste(\"The top trends in \", location) )\n",
    "final_trends\n"
   ]
  },
  {
   "cell_type": "code",
   "execution_count": null,
   "metadata": {
    "collapsed": true
   },
   "outputs": [],
   "source": []
  }
 ],
 "metadata": {
  "kernelspec": {
   "display_name": "R",
   "language": "R",
   "name": "ir"
  },
  "language_info": {
   "codemirror_mode": "r",
   "file_extension": ".r",
   "mimetype": "text/x-r-source",
   "name": "R",
   "pygments_lexer": "r",
   "version": "3.3.2"
  }
 },
 "nbformat": 4,
 "nbformat_minor": 2
}
